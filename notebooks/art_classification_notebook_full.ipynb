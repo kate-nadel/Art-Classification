{
 "cells": [
  {
   "cell_type": "code",
   "execution_count": 100,
   "metadata": {},
   "outputs": [],
   "source": [
    "import matplotlib.pyplot as plt\n",
    "import matplotlib.image as mpimg\n",
    "import numpy as np\n",
    "import pandas as pd\n",
    "import cv2 \n",
    "\n",
    "# import matplotlib.pyplot as plt\n",
    "# # from torchvision import datasets, transforms\n",
    "from torch.utils.data import DataLoader\n",
    "# import torch.nn as nn\n",
    "# import torch.nn.functional as F\n",
    "# import torch.optim as optim\n",
    "import torch\n",
    "\n",
    "import os\n",
    "\n",
    "import seaborn as sns\n",
    "sns.set(style=\"darkgrid\")\n",
    "from sklearn import preprocessing\n",
    "\n",
    "import tensorflow as tf\n",
    "# from tensorflow import image_dataset_from_directory\n",
    "from tensorflow.keras import layers\n",
    "from tensorflow.keras.preprocessing import image\n",
    "\n",
    "from tensorflow.keras.layers.experimental import preprocessing\n",
    "from tensorflow.keras.preprocessing.image import ImageDataGenerator"
   ]
  },
  {
   "cell_type": "code",
   "execution_count": 101,
   "metadata": {},
   "outputs": [],
   "source": [
    "# Link to data on MoMA github\n",
    "mydata_csv_url = 'https://media.githubusercontent.com/media/MuseumofModernArt/collection/master/Artworks.csv'"
   ]
  },
  {
   "cell_type": "code",
   "execution_count": 102,
   "metadata": {},
   "outputs": [],
   "source": [
    "# load the data from local host\n",
    "df = pd.read_csv('../data/artworks.csv')\n",
    "\n",
    "# remove NAs from medium column\n",
    "df = df.dropna(subset=['Medium', \"ThumbnailURL\"])"
   ]
  },
  {
   "cell_type": "code",
   "execution_count": 103,
   "metadata": {},
   "outputs": [],
   "source": [
    "# Create target column\n",
    "lith_condition = df['Medium'].str.lower().str.contains('lithograph')\n",
    "df['Target'] = lith_condition"
   ]
  },
  {
   "cell_type": "code",
   "execution_count": 104,
   "metadata": {},
   "outputs": [
    {
     "data": {
      "text/html": [
       "<div>\n",
       "<style scoped>\n",
       "    .dataframe tbody tr th:only-of-type {\n",
       "        vertical-align: middle;\n",
       "    }\n",
       "\n",
       "    .dataframe tbody tr th {\n",
       "        vertical-align: top;\n",
       "    }\n",
       "\n",
       "    .dataframe thead th {\n",
       "        text-align: right;\n",
       "    }\n",
       "</style>\n",
       "<table border=\"1\" class=\"dataframe\">\n",
       "  <thead>\n",
       "    <tr style=\"text-align: right;\">\n",
       "      <th></th>\n",
       "      <th>ObjectID</th>\n",
       "      <th>ThumbnailURL</th>\n",
       "      <th>Target</th>\n",
       "    </tr>\n",
       "  </thead>\n",
       "  <tbody>\n",
       "    <tr>\n",
       "      <th>0</th>\n",
       "      <td>2</td>\n",
       "      <td>http://www.moma.org/media/W1siZiIsIjU5NDA1Il0s...</td>\n",
       "      <td>False</td>\n",
       "    </tr>\n",
       "    <tr>\n",
       "      <th>1</th>\n",
       "      <td>3</td>\n",
       "      <td>http://www.moma.org/media/W1siZiIsIjk3Il0sWyJw...</td>\n",
       "      <td>False</td>\n",
       "    </tr>\n",
       "    <tr>\n",
       "      <th>2</th>\n",
       "      <td>4</td>\n",
       "      <td>http://www.moma.org/media/W1siZiIsIjk4Il0sWyJw...</td>\n",
       "      <td>False</td>\n",
       "    </tr>\n",
       "    <tr>\n",
       "      <th>3</th>\n",
       "      <td>5</td>\n",
       "      <td>http://www.moma.org/media/W1siZiIsIjEyNCJdLFsi...</td>\n",
       "      <td>False</td>\n",
       "    </tr>\n",
       "    <tr>\n",
       "      <th>4</th>\n",
       "      <td>6</td>\n",
       "      <td>http://www.moma.org/media/W1siZiIsIjEyNiJdLFsi...</td>\n",
       "      <td>False</td>\n",
       "    </tr>\n",
       "  </tbody>\n",
       "</table>\n",
       "</div>"
      ],
      "text/plain": [
       "   ObjectID                                       ThumbnailURL  Target\n",
       "0         2  http://www.moma.org/media/W1siZiIsIjU5NDA1Il0s...   False\n",
       "1         3  http://www.moma.org/media/W1siZiIsIjk3Il0sWyJw...   False\n",
       "2         4  http://www.moma.org/media/W1siZiIsIjk4Il0sWyJw...   False\n",
       "3         5  http://www.moma.org/media/W1siZiIsIjEyNCJdLFsi...   False\n",
       "4         6  http://www.moma.org/media/W1siZiIsIjEyNiJdLFsi...   False"
      ]
     },
     "execution_count": 104,
     "metadata": {},
     "output_type": "execute_result"
    }
   ],
   "source": [
    "df = df[['ObjectID', 'ThumbnailURL', 'Target']]\n",
    "df.head()"
   ]
  },
  {
   "cell_type": "markdown",
   "metadata": {},
   "source": [
    "Creating a column in the dataset with the image title as its saved to my local computer"
   ]
  },
  {
   "cell_type": "code",
   "execution_count": 105,
   "metadata": {},
   "outputs": [],
   "source": [
    "number = df[\"ObjectID\"]\n",
    "end = \".jpg\"\n",
    "\n",
    "df[\"Image Title\"] = (f\"{number} + end\").format(number=number,end=end)\n",
    "                        "
   ]
  },
  {
   "cell_type": "code",
   "execution_count": 106,
   "metadata": {},
   "outputs": [
    {
     "data": {
      "text/plain": [
       "'../data/images/all/'"
      ]
     },
     "execution_count": 106,
     "metadata": {},
     "output_type": "execute_result"
    }
   ],
   "source": [
    "image_dir = os.path.join('../data/images/all/')\n",
    "image_dir\n"
   ]
  },
  {
   "cell_type": "code",
   "execution_count": 107,
   "metadata": {},
   "outputs": [],
   "source": [
    "# filenames = os.listdir(original_train)\n",
    "# categories = []\n"
   ]
  },
  {
   "cell_type": "code",
   "execution_count": 108,
   "metadata": {},
   "outputs": [
    {
     "data": {
      "text/html": [
       "<div>\n",
       "<style scoped>\n",
       "    .dataframe tbody tr th:only-of-type {\n",
       "        vertical-align: middle;\n",
       "    }\n",
       "\n",
       "    .dataframe tbody tr th {\n",
       "        vertical-align: top;\n",
       "    }\n",
       "\n",
       "    .dataframe thead th {\n",
       "        text-align: right;\n",
       "    }\n",
       "</style>\n",
       "<table border=\"1\" class=\"dataframe\">\n",
       "  <thead>\n",
       "    <tr style=\"text-align: right;\">\n",
       "      <th></th>\n",
       "      <th>ObjectID</th>\n",
       "      <th>ThumbnailURL</th>\n",
       "      <th>Target</th>\n",
       "      <th>Image Title</th>\n",
       "      <th>Image title?</th>\n",
       "    </tr>\n",
       "  </thead>\n",
       "  <tbody>\n",
       "    <tr>\n",
       "      <th>0</th>\n",
       "      <td>2</td>\n",
       "      <td>http://www.moma.org/media/W1siZiIsIjU5NDA1Il0s...</td>\n",
       "      <td>False</td>\n",
       "      <td>0              2\\n1              3\\n2         ...</td>\n",
       "      <td>df[ObjectID] + .jpg</td>\n",
       "    </tr>\n",
       "    <tr>\n",
       "      <th>1</th>\n",
       "      <td>3</td>\n",
       "      <td>http://www.moma.org/media/W1siZiIsIjk3Il0sWyJw...</td>\n",
       "      <td>False</td>\n",
       "      <td>0              2\\n1              3\\n2         ...</td>\n",
       "      <td>df[ObjectID] + .jpg</td>\n",
       "    </tr>\n",
       "    <tr>\n",
       "      <th>2</th>\n",
       "      <td>4</td>\n",
       "      <td>http://www.moma.org/media/W1siZiIsIjk4Il0sWyJw...</td>\n",
       "      <td>False</td>\n",
       "      <td>0              2\\n1              3\\n2         ...</td>\n",
       "      <td>df[ObjectID] + .jpg</td>\n",
       "    </tr>\n",
       "    <tr>\n",
       "      <th>3</th>\n",
       "      <td>5</td>\n",
       "      <td>http://www.moma.org/media/W1siZiIsIjEyNCJdLFsi...</td>\n",
       "      <td>False</td>\n",
       "      <td>0              2\\n1              3\\n2         ...</td>\n",
       "      <td>df[ObjectID] + .jpg</td>\n",
       "    </tr>\n",
       "    <tr>\n",
       "      <th>4</th>\n",
       "      <td>6</td>\n",
       "      <td>http://www.moma.org/media/W1siZiIsIjEyNiJdLFsi...</td>\n",
       "      <td>False</td>\n",
       "      <td>0              2\\n1              3\\n2         ...</td>\n",
       "      <td>df[ObjectID] + .jpg</td>\n",
       "    </tr>\n",
       "    <tr>\n",
       "      <th>...</th>\n",
       "      <td>...</td>\n",
       "      <td>...</td>\n",
       "      <td>...</td>\n",
       "      <td>...</td>\n",
       "      <td>...</td>\n",
       "    </tr>\n",
       "    <tr>\n",
       "      <th>137967</th>\n",
       "      <td>416480</td>\n",
       "      <td>http://www.moma.org/media/W1siZiIsIjQ4OTQ3NSJd...</td>\n",
       "      <td>True</td>\n",
       "      <td>0              2\\n1              3\\n2         ...</td>\n",
       "      <td>df[ObjectID] + .jpg</td>\n",
       "    </tr>\n",
       "    <tr>\n",
       "      <th>137968</th>\n",
       "      <td>416481</td>\n",
       "      <td>http://www.moma.org/media/W1siZiIsIjQ4OTQ3NiJd...</td>\n",
       "      <td>True</td>\n",
       "      <td>0              2\\n1              3\\n2         ...</td>\n",
       "      <td>df[ObjectID] + .jpg</td>\n",
       "    </tr>\n",
       "    <tr>\n",
       "      <th>138174</th>\n",
       "      <td>417605</td>\n",
       "      <td>http://www.moma.org/media/W1siZiIsIjIyMzU1OCJd...</td>\n",
       "      <td>False</td>\n",
       "      <td>0              2\\n1              3\\n2         ...</td>\n",
       "      <td>df[ObjectID] + .jpg</td>\n",
       "    </tr>\n",
       "    <tr>\n",
       "      <th>138183</th>\n",
       "      <td>418508</td>\n",
       "      <td>http://www.moma.org/media/W1siZiIsIjEyNjMwNiJd...</td>\n",
       "      <td>False</td>\n",
       "      <td>0              2\\n1              3\\n2         ...</td>\n",
       "      <td>df[ObjectID] + .jpg</td>\n",
       "    </tr>\n",
       "    <tr>\n",
       "      <th>138184</th>\n",
       "      <td>418509</td>\n",
       "      <td>http://www.moma.org/media/W1siZiIsIjEyNjQ0NiJd...</td>\n",
       "      <td>False</td>\n",
       "      <td>0              2\\n1              3\\n2         ...</td>\n",
       "      <td>df[ObjectID] + .jpg</td>\n",
       "    </tr>\n",
       "  </tbody>\n",
       "</table>\n",
       "<p>76063 rows × 5 columns</p>\n",
       "</div>"
      ],
      "text/plain": [
       "        ObjectID                                       ThumbnailURL  Target  \\\n",
       "0              2  http://www.moma.org/media/W1siZiIsIjU5NDA1Il0s...   False   \n",
       "1              3  http://www.moma.org/media/W1siZiIsIjk3Il0sWyJw...   False   \n",
       "2              4  http://www.moma.org/media/W1siZiIsIjk4Il0sWyJw...   False   \n",
       "3              5  http://www.moma.org/media/W1siZiIsIjEyNCJdLFsi...   False   \n",
       "4              6  http://www.moma.org/media/W1siZiIsIjEyNiJdLFsi...   False   \n",
       "...          ...                                                ...     ...   \n",
       "137967    416480  http://www.moma.org/media/W1siZiIsIjQ4OTQ3NSJd...    True   \n",
       "137968    416481  http://www.moma.org/media/W1siZiIsIjQ4OTQ3NiJd...    True   \n",
       "138174    417605  http://www.moma.org/media/W1siZiIsIjIyMzU1OCJd...   False   \n",
       "138183    418508  http://www.moma.org/media/W1siZiIsIjEyNjMwNiJd...   False   \n",
       "138184    418509  http://www.moma.org/media/W1siZiIsIjEyNjQ0NiJd...   False   \n",
       "\n",
       "                                              Image Title         Image title?  \n",
       "0       0              2\\n1              3\\n2         ...  df[ObjectID] + .jpg  \n",
       "1       0              2\\n1              3\\n2         ...  df[ObjectID] + .jpg  \n",
       "2       0              2\\n1              3\\n2         ...  df[ObjectID] + .jpg  \n",
       "3       0              2\\n1              3\\n2         ...  df[ObjectID] + .jpg  \n",
       "4       0              2\\n1              3\\n2         ...  df[ObjectID] + .jpg  \n",
       "...                                                   ...                  ...  \n",
       "137967  0              2\\n1              3\\n2         ...  df[ObjectID] + .jpg  \n",
       "137968  0              2\\n1              3\\n2         ...  df[ObjectID] + .jpg  \n",
       "138174  0              2\\n1              3\\n2         ...  df[ObjectID] + .jpg  \n",
       "138183  0              2\\n1              3\\n2         ...  df[ObjectID] + .jpg  \n",
       "138184  0              2\\n1              3\\n2         ...  df[ObjectID] + .jpg  \n",
       "\n",
       "[76063 rows x 5 columns]"
      ]
     },
     "execution_count": 108,
     "metadata": {},
     "output_type": "execute_result"
    }
   ],
   "source": [
    "df[\"Image title?\"] = (\"df[ObjectID] + .jpg\")\n",
    "df"
   ]
  },
  {
   "cell_type": "code",
   "execution_count": 41,
   "metadata": {},
   "outputs": [
    {
     "name": "stdout",
     "output_type": "stream",
     "text": [
      "0              2\n",
      "1              3\n",
      "2              4\n",
      "3              5\n",
      "4              6\n",
      "           ...  \n",
      "137967    416480\n",
      "137968    416481\n",
      "138174    417605\n",
      "138183    418508\n",
      "138184    418509\n",
      "Name: ObjectID, Length: 76063, dtype: int64 + end\n"
     ]
    }
   ],
   "source": [
    "# string interpolation\n",
    "\n"
   ]
  },
  {
   "cell_type": "code",
   "execution_count": 84,
   "metadata": {},
   "outputs": [],
   "source": [
    "# print (df[\"ObjectID\"] + \".jpg\")"
   ]
  },
  {
   "cell_type": "code",
   "execution_count": null,
   "metadata": {},
   "outputs": [],
   "source": []
  },
  {
   "cell_type": "code",
   "execution_count": null,
   "metadata": {},
   "outputs": [],
   "source": []
  }
 ],
 "metadata": {
  "kernelspec": {
   "display_name": "Python 3",
   "language": "python",
   "name": "python3"
  },
  "language_info": {
   "codemirror_mode": {
    "name": "ipython",
    "version": 3
   },
   "file_extension": ".py",
   "mimetype": "text/x-python",
   "name": "python",
   "nbconvert_exporter": "python",
   "pygments_lexer": "ipython3",
   "version": "3.7.9"
  }
 },
 "nbformat": 4,
 "nbformat_minor": 4
}
