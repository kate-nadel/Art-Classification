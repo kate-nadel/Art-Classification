{
 "cells": [
  {
   "cell_type": "code",
   "execution_count": 1,
   "metadata": {},
   "outputs": [],
   "source": [
    "import requests\n",
    "import pandas as pd\n",
    "import os\n",
    "from tqdm import tqdm"
   ]
  },
  {
   "cell_type": "code",
   "execution_count": 2,
   "metadata": {},
   "outputs": [],
   "source": [
    "# import urllib.request\n",
    "# import pandas as pd\n",
    "\n",
    "# r = urllib.request.urlopen(url)\n",
    "# url_ex = \"http://www.moma.org/media/W1siZiIsIjU5NDA1Il0sWyJwIiwiY29udmVydCIsIi1yZXNpemUgMzAweDMwMFx1MDAzZSJdXQ.jpg?sha=137b8455b1ec6167\"\n",
    "\n",
    "# mydata_csv_url = 'https://media.githubusercontent.com/media/MuseumofModernArt/collection/master/Artworks.csv'\n",
    "# df_artworks = pd.read_csv(\"https://media.githubusercontent.com/media/MuseumofModernArt/collection/master/Artworks.csv\", dtype=str)"
   ]
  },
  {
   "cell_type": "code",
   "execution_count": 3,
   "metadata": {},
   "outputs": [],
   "source": [
    "# load the data\n",
    "df = pd.read_csv('../data/artworks.csv')\n",
    "\n",
    "# remove NAs from medium column\n",
    "df = df.dropna(subset=['Medium', \"ThumbnailURL\"])"
   ]
  },
  {
   "cell_type": "code",
   "execution_count": 4,
   "metadata": {},
   "outputs": [],
   "source": [
    "# Create target column\n",
    "lith_condition = df['Medium'].str.lower().str.contains('lithograph')\n",
    "df['Target'] = lith_condition"
   ]
  },
  {
   "cell_type": "code",
   "execution_count": 5,
   "metadata": {},
   "outputs": [
    {
     "data": {
      "text/html": [
       "<div>\n",
       "<style scoped>\n",
       "    .dataframe tbody tr th:only-of-type {\n",
       "        vertical-align: middle;\n",
       "    }\n",
       "\n",
       "    .dataframe tbody tr th {\n",
       "        vertical-align: top;\n",
       "    }\n",
       "\n",
       "    .dataframe thead th {\n",
       "        text-align: right;\n",
       "    }\n",
       "</style>\n",
       "<table border=\"1\" class=\"dataframe\">\n",
       "  <thead>\n",
       "    <tr style=\"text-align: right;\">\n",
       "      <th></th>\n",
       "      <th>ObjectID</th>\n",
       "      <th>ThumbnailURL</th>\n",
       "      <th>Target</th>\n",
       "    </tr>\n",
       "  </thead>\n",
       "  <tbody>\n",
       "    <tr>\n",
       "      <th>0</th>\n",
       "      <td>2</td>\n",
       "      <td>http://www.moma.org/media/W1siZiIsIjU5NDA1Il0s...</td>\n",
       "      <td>False</td>\n",
       "    </tr>\n",
       "    <tr>\n",
       "      <th>1</th>\n",
       "      <td>3</td>\n",
       "      <td>http://www.moma.org/media/W1siZiIsIjk3Il0sWyJw...</td>\n",
       "      <td>False</td>\n",
       "    </tr>\n",
       "    <tr>\n",
       "      <th>2</th>\n",
       "      <td>4</td>\n",
       "      <td>http://www.moma.org/media/W1siZiIsIjk4Il0sWyJw...</td>\n",
       "      <td>False</td>\n",
       "    </tr>\n",
       "    <tr>\n",
       "      <th>3</th>\n",
       "      <td>5</td>\n",
       "      <td>http://www.moma.org/media/W1siZiIsIjEyNCJdLFsi...</td>\n",
       "      <td>False</td>\n",
       "    </tr>\n",
       "    <tr>\n",
       "      <th>4</th>\n",
       "      <td>6</td>\n",
       "      <td>http://www.moma.org/media/W1siZiIsIjEyNiJdLFsi...</td>\n",
       "      <td>False</td>\n",
       "    </tr>\n",
       "  </tbody>\n",
       "</table>\n",
       "</div>"
      ],
      "text/plain": [
       "   ObjectID                                       ThumbnailURL  Target\n",
       "0         2  http://www.moma.org/media/W1siZiIsIjU5NDA1Il0s...   False\n",
       "1         3  http://www.moma.org/media/W1siZiIsIjk3Il0sWyJw...   False\n",
       "2         4  http://www.moma.org/media/W1siZiIsIjk4Il0sWyJw...   False\n",
       "3         5  http://www.moma.org/media/W1siZiIsIjEyNCJdLFsi...   False\n",
       "4         6  http://www.moma.org/media/W1siZiIsIjEyNiJdLFsi...   False"
      ]
     },
     "execution_count": 5,
     "metadata": {},
     "output_type": "execute_result"
    }
   ],
   "source": [
    "df = df[['ObjectID', 'ThumbnailURL', 'Target']]\n",
    "df.head()"
   ]
  },
  {
   "cell_type": "code",
   "execution_count": 6,
   "metadata": {},
   "outputs": [
    {
     "data": {
      "text/plain": [
       "False    63082\n",
       "True     12981\n",
       "Name: Target, dtype: int64"
      ]
     },
     "execution_count": 6,
     "metadata": {},
     "output_type": "execute_result"
    }
   ],
   "source": [
    "df['Target'].value_counts()"
   ]
  },
  {
   "cell_type": "code",
   "execution_count": 7,
   "metadata": {},
   "outputs": [],
   "source": [
    "# your data is imalabanced - you have to take care of it either through downsampling the majority class. make sure to stratify if not"
   ]
  },
  {
   "cell_type": "code",
   "execution_count": 8,
   "metadata": {},
   "outputs": [],
   "source": [
    "def save_images(image_url, image_name, image_dir):\n",
    "    \"\"\"\n",
    "    This function saves an image from image_url to a local path at image_dir/image_name\n",
    "    \"\"\"\n",
    "    file_name = \"{}.jpg\".format(image_name)\n",
    "    file_path = os.path.join(image_dir, file_name)\n",
    "\n",
    "    f = open(file_path,'wb')\n",
    "    f.write(requests.get(image_url).content)\n",
    "    f.close()"
   ]
  },
  {
   "cell_type": "code",
   "execution_count": 14,
   "metadata": {},
   "outputs": [
    {
     "name": "stderr",
     "output_type": "stream",
     "text": [
      "  3%|▎         | 2000/76063 [06:56<4:17:15,  4.80it/s] \n"
     ]
    }
   ],
   "source": [
    "# Load 2000 non lithograph images to training folder\n",
    "for idx, row in tqdm(df[df['Target'] == False].head(2000).iterrows(), total=df.shape[0]):\n",
    "    save_images(row['ThumbnailURL'], row['ObjectID'], \"../data/images/all/train/\")"
   ]
  },
  {
   "cell_type": "code",
   "execution_count": 15,
   "metadata": {},
   "outputs": [
    {
     "name": "stderr",
     "output_type": "stream",
     "text": [
      "  3%|▎         | 2000/76063 [11:23<7:02:05,  2.92it/s] \n"
     ]
    }
   ],
   "source": [
    "for idx, row in tqdm(df[df['Target'] == True].head(2000).iterrows(), total=df.shape[0]):\n",
    "    save_images(row['ThumbnailURL'], row['ObjectID'], \"../data/images/all/train/true/\")"
   ]
  },
  {
   "cell_type": "code",
   "execution_count": 71,
   "metadata": {},
   "outputs": [],
   "source": [
    "# for idx, row in tqdm(df.iterrows(), total=df.shape[0]):\n",
    "#     save_images(image_url=row['ThumbnailURL'], image_name=row['ObjectID'])"
   ]
  },
  {
   "cell_type": "markdown",
   "metadata": {},
   "source": [
    "#### Now 4000 images are loaded into local data folder"
   ]
  }
 ],
 "metadata": {
  "kernelspec": {
   "display_name": "Python 3",
   "language": "python",
   "name": "python3"
  },
  "language_info": {
   "codemirror_mode": {
    "name": "ipython",
    "version": 3
   },
   "file_extension": ".py",
   "mimetype": "text/x-python",
   "name": "python",
   "nbconvert_exporter": "python",
   "pygments_lexer": "ipython3",
   "version": "3.7.9"
  }
 },
 "nbformat": 4,
 "nbformat_minor": 4
}
